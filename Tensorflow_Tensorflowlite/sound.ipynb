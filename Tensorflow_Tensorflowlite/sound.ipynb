{
 "cells": [
  {
   "cell_type": "code",
   "execution_count": 51,
   "metadata": {
    "colab": {
     "base_uri": "https://localhost:8080/"
    },
    "executionInfo": {
     "elapsed": 2881,
     "status": "ok",
     "timestamp": 1642520250898,
     "user": {
      "displayName": "Martin ROB",
      "photoUrl": "https://lh3.googleusercontent.com/a/default-user=s64",
      "userId": "04452306311638204781"
     },
     "user_tz": -60
    },
    "id": "2Rfg2hgAZZpK",
    "outputId": "23238848-3abd-461c-b4b3-612fb033d66e"
   },
   "outputs": [
    {
     "name": "stdout",
     "output_type": "stream",
     "text": [
      "Drive already mounted at /content/gdrive; to attempt to forcibly remount, call drive.mount(\"/content/gdrive\", force_remount=True).\n",
      "/content/gdrive/My Drive/machine_learning/Reinforcement Learning\n",
      "'Copie de sound.ipynb'\t results\t\t sound_memory.ipynb\n",
      " features_prof.csv\t sound_brouillon.ipynb\t sound_model_raspberry.ipynb\n",
      " features_test.csv\t sound.ipynb\n",
      " features_train.csv\t sound_lite.ipynb\n"
     ]
    }
   ],
   "source": [
    "import numpy as np\n",
    "import pandas as pd\n",
    "import time\n",
    "from matplotlib import pyplot as plt\n",
    "from functools import partial\n",
    "\n",
    "# ML Scikit Imports\n",
    "from sklearn import preprocessing\n",
    "from sklearn.model_selection import train_test_split\n",
    "from sklearn.metrics import confusion_matrix, classification_report\n",
    "import tensorflow as tf\n",
    "import tensorflow.keras as keras\n",
    "from tensorflow.keras.preprocessing.image import img_to_array, load_img\n",
    "\n",
    "\n",
    "# a décommenter si problème avec le GPU de votre machine\n",
    "# physical_devices = tf.config.experimental.list_physical_devices('GPU')\n",
    "#for gpu in physical_devices:\n",
    "#    tf.config.experimental.set_memory_growth(gpu, True)\n",
    "\n",
    "\n",
    " # imports locaux\n",
    "#from usefulCmdsAndFcns import load_batch, importData2, prepare_datasets, normalize_features, encode_labels, learningCurves, ConfusionEvaluation, display_conv_filters_kv\n",
    "\n",
    "\n",
    "# links with google drive and colab\n",
    "import sys\n",
    "IN_COLAB = 'google.colab' in sys.modules\n",
    "\n",
    "if IN_COLAB:\n",
    "   from google.colab import drive\n",
    "   drive.mount('/content/gdrive')\n",
    "   code_folder = '/content/gdrive/My Drive/machine_learning/Reinforcement Learning' # remplacer par le chemin vers ce notebook à partir de My Drive/...\n",
    "   %cd \"$code_folder\"\n",
    "   !ls \"$code_folder\"\n"
   ]
  },
  {
   "cell_type": "code",
   "execution_count": 52,
   "metadata": {
    "executionInfo": {
     "elapsed": 19,
     "status": "ok",
     "timestamp": 1642520250899,
     "user": {
      "displayName": "Martin ROB",
      "photoUrl": "https://lh3.googleusercontent.com/a/default-user=s64",
      "userId": "04452306311638204781"
     },
     "user_tz": -60
    },
    "id": "PbcgRUZTd2to"
   },
   "outputs": [],
   "source": [
    "LABEL_PATH_TRAIN = r'./features_train.csv'\n",
    "LABEL_PATH_TEST = r'./features_test.csv'\n",
    "LABEL_PATH = r'./features_prof.csv'\n",
    "\n",
    "data_train = pd.read_csv(LABEL_PATH_TRAIN)\n",
    "data_train.head()\n",
    "\n",
    "data_test = pd.read_csv(LABEL_PATH_TEST)\n",
    "data_test.head()\n",
    "data = pd.read_csv(LABEL_PATH_TEST)\n",
    "data.head()\n",
    "\n",
    "X_train = data_train.iloc[:, :512]\n",
    "y_train = data_train.iloc[:, 512]\n",
    "\n",
    "X_test = data_test.iloc[:, :512]\n",
    "y_test = data_test.iloc[:, 512]\n",
    "\n",
    "feature_values = data.iloc[:, :512]\n",
    "label_names = data.iloc[:, 512]\n"
   ]
  },
  {
   "cell_type": "code",
   "execution_count": 53,
   "metadata": {
    "colab": {
     "base_uri": "https://localhost:8080/"
    },
    "executionInfo": {
     "elapsed": 18,
     "status": "ok",
     "timestamp": 1642520250900,
     "user": {
      "displayName": "Martin ROB",
      "photoUrl": "https://lh3.googleusercontent.com/a/default-user=s64",
      "userId": "04452306311638204781"
     },
     "user_tz": -60
    },
    "id": "p0Wn94Huexzz",
    "outputId": "197fed49-779d-40a7-fc57-fd61d24e6fa5"
   },
   "outputs": [
    {
     "name": "stdout",
     "output_type": "stream",
     "text": [
      "670\n",
      "330\n"
     ]
    }
   ],
   "source": [
    "\n",
    "# X_train, X_test, y_train, y_test = train_test_split(feature_values,\n",
    "#                                                                                             label_names,\n",
    "#                                                                                             test_size=0.5,\n",
    "#                                                                                           stratify=np.array(\n",
    "#                                                                                                 label_names),\n",
    "#                                                                                             random_state=42)\n",
    "# X_test, X_val, y_test, y_val = train_test_split(X_test,\n",
    "#                                                                                             y_test,\n",
    "#                                                                                             test_size=0.5,\n",
    "#                                                                                             stratify=np.array(\n",
    "#                                                                                                 y_test),\n",
    "#                                                                                             random_state=42)              \n",
    "\n",
    "m = y_train.shape[0]\n",
    "print(m)\n",
    "n = y_test.shape[0]\n",
    "print(n)"
   ]
  },
  {
   "cell_type": "code",
   "execution_count": 54,
   "metadata": {
    "colab": {
     "base_uri": "https://localhost:8080/"
    },
    "executionInfo": {
     "elapsed": 552,
     "status": "ok",
     "timestamp": 1642520251439,
     "user": {
      "displayName": "Martin ROB",
      "photoUrl": "https://lh3.googleusercontent.com/a/default-user=s64",
      "userId": "04452306311638204781"
     },
     "user_tz": -60
    },
    "id": "5qxhE0Lzhqrx",
    "outputId": "a78c1f4d-520b-4c59-8a66-4dba4a8e1c91"
   },
   "outputs": [
    {
     "name": "stdout",
     "output_type": "stream",
     "text": [
      "(670, 512) (670, 1)\n"
     ]
    }
   ],
   "source": [
    "labelNames_unique = label_names.unique()\n",
    "\n",
    "label_nb = labelNames_unique.shape[0]\n",
    "\n",
    "# enc labelNames to indices\n",
    "encName2Ind = preprocessing.LabelEncoder()\n",
    "encName2Ind.fit(labelNames_unique)\n",
    "labelIndices_unique = encName2Ind.transform(labelNames_unique)\n",
    "labelIndices  = encName2Ind.transform(label_names)\n",
    "\n",
    "y_train = encName2Ind.transform(y_train)\n",
    "y_test = encName2Ind.transform(y_test)\n",
    "\n",
    "X_train = np.array(X_train)\n",
    "X_test = np.array(X_test)\n",
    "\n",
    "y_train = np.array(y_train)\n",
    "y_test = np.array(y_test)\n",
    "\n",
    "y_train = y_train.reshape((m,1))\n",
    "y_test = y_test.reshape((n,1))\n",
    "\n",
    "print(X_train.shape, y_train.shape)"
   ]
  },
  {
   "cell_type": "code",
   "execution_count": 55,
   "metadata": {
    "executionInfo": {
     "elapsed": 4,
     "status": "ok",
     "timestamp": 1642520251439,
     "user": {
      "displayName": "Martin ROB",
      "photoUrl": "https://lh3.googleusercontent.com/a/default-user=s64",
      "userId": "04452306311638204781"
     },
     "user_tz": -60
    },
    "id": "pV6XSA3Ul3_h"
   },
   "outputs": [],
   "source": [
    "model=tf.keras.Sequential()\n",
    "model.add(tf.keras.layers.Dense(256, activation='relu', input_dim=X_train.shape[1]))\n",
    "model.add(tf.keras.layers.Dense(64, activation='relu'))\n",
    "model.add(tf.keras.layers.Dense(10, activation='softmax'))\n",
    "\n",
    "\n",
    "model.compile(optimizer='adam',\n",
    "              loss=tf.keras.losses.SparseCategoricalCrossentropy(from_logits=True),\n",
    "              metrics=['accuracy'])"
   ]
  },
  {
   "cell_type": "code",
   "execution_count": 56,
   "metadata": {
    "colab": {
     "base_uri": "https://localhost:8080/"
    },
    "executionInfo": {
     "elapsed": 10463,
     "status": "ok",
     "timestamp": 1642520261899,
     "user": {
      "displayName": "Martin ROB",
      "photoUrl": "https://lh3.googleusercontent.com/a/default-user=s64",
      "userId": "04452306311638204781"
     },
     "user_tz": -60
    },
    "id": "lI4DtrHomedx",
    "outputId": "75cf420f-450d-44a5-bf1a-a1d76f317cd1"
   },
   "outputs": [
    {
     "name": "stdout",
     "output_type": "stream",
     "text": [
      "Epoch 1/100\n"
     ]
    },
    {
     "name": "stderr",
     "output_type": "stream",
     "text": [
      "/usr/local/lib/python3.7/dist-packages/tensorflow/python/util/dispatch.py:1096: UserWarning: \"`sparse_categorical_crossentropy` received `from_logits=True`, but the `output` argument was produced by a sigmoid or softmax activation and thus does not represent logits. Was this intended?\"\n",
      "  return dispatch_target(*args, **kwargs)\n"
     ]
    },
    {
     "name": "stdout",
     "output_type": "stream",
     "text": [
      "11/11 [==============================] - 0s 4ms/step - loss: 114.9225 - accuracy: 0.1209\n",
      "Epoch 2/100\n",
      "11/11 [==============================] - 0s 4ms/step - loss: 33.7255 - accuracy: 0.2149\n",
      "Epoch 3/100\n",
      "11/11 [==============================] - 0s 4ms/step - loss: 19.8997 - accuracy: 0.2597\n",
      "Epoch 4/100\n",
      "11/11 [==============================] - 0s 4ms/step - loss: 14.7902 - accuracy: 0.3015\n",
      "Epoch 5/100\n",
      "11/11 [==============================] - 0s 4ms/step - loss: 11.3478 - accuracy: 0.3687\n",
      "Epoch 6/100\n",
      "11/11 [==============================] - 0s 5ms/step - loss: 9.7960 - accuracy: 0.4224\n",
      "Epoch 7/100\n",
      "11/11 [==============================] - 0s 4ms/step - loss: 8.8902 - accuracy: 0.4209\n",
      "Epoch 8/100\n",
      "11/11 [==============================] - 0s 5ms/step - loss: 7.7758 - accuracy: 0.4910\n",
      "Epoch 9/100\n",
      "11/11 [==============================] - 0s 4ms/step - loss: 7.1006 - accuracy: 0.5313\n",
      "Epoch 10/100\n",
      "11/11 [==============================] - 0s 4ms/step - loss: 4.5924 - accuracy: 0.5731\n",
      "Epoch 11/100\n",
      "11/11 [==============================] - 0s 4ms/step - loss: 4.4775 - accuracy: 0.6000\n",
      "Epoch 12/100\n",
      "11/11 [==============================] - 0s 4ms/step - loss: 3.5590 - accuracy: 0.6209\n",
      "Epoch 13/100\n",
      "11/11 [==============================] - 0s 4ms/step - loss: 3.2907 - accuracy: 0.6537\n",
      "Epoch 14/100\n",
      "11/11 [==============================] - 0s 4ms/step - loss: 3.1233 - accuracy: 0.6567\n",
      "Epoch 15/100\n",
      "11/11 [==============================] - 0s 4ms/step - loss: 2.7075 - accuracy: 0.6776\n",
      "Epoch 16/100\n",
      "11/11 [==============================] - 0s 4ms/step - loss: 3.1622 - accuracy: 0.6493\n",
      "Epoch 17/100\n",
      "11/11 [==============================] - 0s 4ms/step - loss: 2.4449 - accuracy: 0.6836\n",
      "Epoch 18/100\n",
      "11/11 [==============================] - 0s 5ms/step - loss: 2.3784 - accuracy: 0.7164\n",
      "Epoch 19/100\n",
      "11/11 [==============================] - 0s 4ms/step - loss: 2.3283 - accuracy: 0.7179\n",
      "Epoch 20/100\n",
      "11/11 [==============================] - 0s 5ms/step - loss: 2.3948 - accuracy: 0.7015\n",
      "Epoch 21/100\n",
      "11/11 [==============================] - 0s 4ms/step - loss: 1.9765 - accuracy: 0.7373\n",
      "Epoch 22/100\n",
      "11/11 [==============================] - 0s 4ms/step - loss: 2.1154 - accuracy: 0.7284\n",
      "Epoch 23/100\n",
      "11/11 [==============================] - 0s 4ms/step - loss: 2.3859 - accuracy: 0.7045\n",
      "Epoch 24/100\n",
      "11/11 [==============================] - 0s 4ms/step - loss: 2.8653 - accuracy: 0.6881\n",
      "Epoch 25/100\n",
      "11/11 [==============================] - 0s 4ms/step - loss: 2.5827 - accuracy: 0.7015\n",
      "Epoch 26/100\n",
      "11/11 [==============================] - 0s 4ms/step - loss: 4.0633 - accuracy: 0.6493\n",
      "Epoch 27/100\n",
      "11/11 [==============================] - 0s 4ms/step - loss: 3.4714 - accuracy: 0.6836\n",
      "Epoch 28/100\n",
      "11/11 [==============================] - 0s 4ms/step - loss: 2.5706 - accuracy: 0.6955\n",
      "Epoch 29/100\n",
      "11/11 [==============================] - 0s 6ms/step - loss: 2.1344 - accuracy: 0.7478\n",
      "Epoch 30/100\n",
      "11/11 [==============================] - 0s 4ms/step - loss: 1.9500 - accuracy: 0.7507\n",
      "Epoch 31/100\n",
      "11/11 [==============================] - 0s 4ms/step - loss: 1.5166 - accuracy: 0.7657\n",
      "Epoch 32/100\n",
      "11/11 [==============================] - 0s 5ms/step - loss: 2.2643 - accuracy: 0.7149\n",
      "Epoch 33/100\n",
      "11/11 [==============================] - 0s 4ms/step - loss: 1.8598 - accuracy: 0.7522\n",
      "Epoch 34/100\n",
      "11/11 [==============================] - 0s 5ms/step - loss: 1.6556 - accuracy: 0.7806\n",
      "Epoch 35/100\n",
      "11/11 [==============================] - 0s 4ms/step - loss: 1.7491 - accuracy: 0.7746\n",
      "Epoch 36/100\n",
      "11/11 [==============================] - 0s 4ms/step - loss: 1.2702 - accuracy: 0.7910\n",
      "Epoch 37/100\n",
      "11/11 [==============================] - 0s 4ms/step - loss: 1.4604 - accuracy: 0.7716\n",
      "Epoch 38/100\n",
      "11/11 [==============================] - 0s 4ms/step - loss: 2.5045 - accuracy: 0.7328\n",
      "Epoch 39/100\n",
      "11/11 [==============================] - 0s 4ms/step - loss: 4.6817 - accuracy: 0.6388\n",
      "Epoch 40/100\n",
      "11/11 [==============================] - 0s 4ms/step - loss: 2.4230 - accuracy: 0.7672\n",
      "Epoch 41/100\n",
      "11/11 [==============================] - 0s 4ms/step - loss: 2.7274 - accuracy: 0.7045\n",
      "Epoch 42/100\n",
      "11/11 [==============================] - 0s 4ms/step - loss: 2.7320 - accuracy: 0.7239\n",
      "Epoch 43/100\n",
      "11/11 [==============================] - 0s 4ms/step - loss: 2.2629 - accuracy: 0.7552\n",
      "Epoch 44/100\n",
      "11/11 [==============================] - 0s 5ms/step - loss: 1.0425 - accuracy: 0.8433\n",
      "Epoch 45/100\n",
      "11/11 [==============================] - 0s 4ms/step - loss: 1.0570 - accuracy: 0.8388\n",
      "Epoch 46/100\n",
      "11/11 [==============================] - 0s 4ms/step - loss: 0.9587 - accuracy: 0.8284\n",
      "Epoch 47/100\n",
      "11/11 [==============================] - 0s 4ms/step - loss: 0.9183 - accuracy: 0.8358\n",
      "Epoch 48/100\n",
      "11/11 [==============================] - 0s 4ms/step - loss: 0.8402 - accuracy: 0.8537\n",
      "Epoch 49/100\n",
      "11/11 [==============================] - 0s 4ms/step - loss: 1.2711 - accuracy: 0.8313\n",
      "Epoch 50/100\n",
      "11/11 [==============================] - 0s 4ms/step - loss: 0.9699 - accuracy: 0.8567\n",
      "Epoch 51/100\n",
      "11/11 [==============================] - 0s 4ms/step - loss: 0.9359 - accuracy: 0.8552\n",
      "Epoch 52/100\n",
      "11/11 [==============================] - 0s 4ms/step - loss: 1.1745 - accuracy: 0.8269\n",
      "Epoch 53/100\n",
      "11/11 [==============================] - 0s 4ms/step - loss: 1.1665 - accuracy: 0.8313\n",
      "Epoch 54/100\n",
      "11/11 [==============================] - 0s 3ms/step - loss: 0.6880 - accuracy: 0.8672\n",
      "Epoch 55/100\n",
      "11/11 [==============================] - 0s 4ms/step - loss: 0.5964 - accuracy: 0.8791\n",
      "Epoch 56/100\n",
      "11/11 [==============================] - 0s 4ms/step - loss: 0.6263 - accuracy: 0.8851\n",
      "Epoch 57/100\n",
      "11/11 [==============================] - 0s 4ms/step - loss: 0.5307 - accuracy: 0.8881\n",
      "Epoch 58/100\n",
      "11/11 [==============================] - 0s 5ms/step - loss: 0.4090 - accuracy: 0.9090\n",
      "Epoch 59/100\n",
      "11/11 [==============================] - 0s 4ms/step - loss: 0.4513 - accuracy: 0.8806\n",
      "Epoch 60/100\n",
      "11/11 [==============================] - 0s 4ms/step - loss: 0.3688 - accuracy: 0.9254\n",
      "Epoch 61/100\n",
      "11/11 [==============================] - 0s 4ms/step - loss: 0.3608 - accuracy: 0.9104\n",
      "Epoch 62/100\n",
      "11/11 [==============================] - 0s 4ms/step - loss: 0.2364 - accuracy: 0.9358\n",
      "Epoch 63/100\n",
      "11/11 [==============================] - 0s 4ms/step - loss: 0.2479 - accuracy: 0.9358\n",
      "Epoch 64/100\n",
      "11/11 [==============================] - 0s 4ms/step - loss: 0.2078 - accuracy: 0.9433\n",
      "Epoch 65/100\n",
      "11/11 [==============================] - 0s 4ms/step - loss: 0.3459 - accuracy: 0.9239\n",
      "Epoch 66/100\n",
      "11/11 [==============================] - 0s 4ms/step - loss: 0.2979 - accuracy: 0.9358\n",
      "Epoch 67/100\n",
      "11/11 [==============================] - 0s 4ms/step - loss: 0.2488 - accuracy: 0.9313\n",
      "Epoch 68/100\n",
      "11/11 [==============================] - 0s 4ms/step - loss: 0.2341 - accuracy: 0.9239\n",
      "Epoch 69/100\n",
      "11/11 [==============================] - 0s 4ms/step - loss: 0.1487 - accuracy: 0.9537\n",
      "Epoch 70/100\n",
      "11/11 [==============================] - 0s 5ms/step - loss: 0.1585 - accuracy: 0.9522\n",
      "Epoch 71/100\n",
      "11/11 [==============================] - 0s 3ms/step - loss: 0.1493 - accuracy: 0.9627\n",
      "Epoch 72/100\n",
      "11/11 [==============================] - 0s 4ms/step - loss: 0.0738 - accuracy: 0.9761\n",
      "Epoch 73/100\n",
      "11/11 [==============================] - 0s 4ms/step - loss: 0.0802 - accuracy: 0.9746\n",
      "Epoch 74/100\n",
      "11/11 [==============================] - 0s 4ms/step - loss: 0.0509 - accuracy: 0.9910\n",
      "Epoch 75/100\n",
      "11/11 [==============================] - 0s 4ms/step - loss: 0.0719 - accuracy: 0.9746\n",
      "Epoch 76/100\n",
      "11/11 [==============================] - 0s 4ms/step - loss: 0.0540 - accuracy: 0.9866\n",
      "Epoch 77/100\n",
      "11/11 [==============================] - 0s 4ms/step - loss: 0.0346 - accuracy: 0.9881\n",
      "Epoch 78/100\n",
      "11/11 [==============================] - 0s 4ms/step - loss: 0.0589 - accuracy: 0.9821\n",
      "Epoch 79/100\n",
      "11/11 [==============================] - 0s 4ms/step - loss: 0.0531 - accuracy: 0.9821\n",
      "Epoch 80/100\n",
      "11/11 [==============================] - 0s 4ms/step - loss: 0.2189 - accuracy: 0.9418\n",
      "Epoch 81/100\n",
      "11/11 [==============================] - 0s 4ms/step - loss: 0.6896 - accuracy: 0.8851\n",
      "Epoch 82/100\n",
      "11/11 [==============================] - 0s 4ms/step - loss: 1.2851 - accuracy: 0.8239\n",
      "Epoch 83/100\n",
      "11/11 [==============================] - 0s 4ms/step - loss: 0.9074 - accuracy: 0.8373\n",
      "Epoch 84/100\n",
      "11/11 [==============================] - 0s 4ms/step - loss: 0.6896 - accuracy: 0.8433\n",
      "Epoch 85/100\n",
      "11/11 [==============================] - 0s 4ms/step - loss: 0.5206 - accuracy: 0.8836\n",
      "Epoch 86/100\n",
      "11/11 [==============================] - 0s 4ms/step - loss: 0.1601 - accuracy: 0.9552\n",
      "Epoch 87/100\n",
      "11/11 [==============================] - 0s 4ms/step - loss: 0.0959 - accuracy: 0.9687\n",
      "Epoch 88/100\n",
      "11/11 [==============================] - 0s 4ms/step - loss: 0.0522 - accuracy: 0.9791\n",
      "Epoch 89/100\n",
      "11/11 [==============================] - 0s 4ms/step - loss: 0.0419 - accuracy: 0.9881\n",
      "Epoch 90/100\n",
      "11/11 [==============================] - 0s 5ms/step - loss: 0.0403 - accuracy: 0.9881\n",
      "Epoch 91/100\n",
      "11/11 [==============================] - 0s 3ms/step - loss: 0.0292 - accuracy: 0.9925\n",
      "Epoch 92/100\n",
      "11/11 [==============================] - 0s 4ms/step - loss: 0.0395 - accuracy: 0.9896\n",
      "Epoch 93/100\n",
      "11/11 [==============================] - 0s 4ms/step - loss: 0.0529 - accuracy: 0.9836\n",
      "Epoch 94/100\n",
      "11/11 [==============================] - 0s 4ms/step - loss: 0.0300 - accuracy: 0.9940\n",
      "Epoch 95/100\n",
      "11/11 [==============================] - 0s 4ms/step - loss: 0.0608 - accuracy: 0.9806\n",
      "Epoch 96/100\n",
      "11/11 [==============================] - 0s 4ms/step - loss: 0.0303 - accuracy: 0.9896\n",
      "Epoch 97/100\n",
      "11/11 [==============================] - 0s 4ms/step - loss: 0.0730 - accuracy: 0.9791\n",
      "Epoch 98/100\n",
      "11/11 [==============================] - 0s 4ms/step - loss: 0.0863 - accuracy: 0.9821\n",
      "Epoch 99/100\n",
      "11/11 [==============================] - 0s 4ms/step - loss: 0.0543 - accuracy: 0.9776\n",
      "Epoch 100/100\n",
      "11/11 [==============================] - 0s 4ms/step - loss: 0.0276 - accuracy: 0.9896\n",
      "**************************************************\n",
      "\n",
      "*** Complexite temporelle du reseaux de neurones :  10.693883657455444   secondes ***\n",
      "**************************************************\n",
      "\n"
     ]
    }
   ],
   "source": [
    "t0 = time.time()\n",
    "\n",
    "history = model.fit(\n",
    "    X_train,\n",
    "    y_train,\n",
    "    batch_size=64,\n",
    "    epochs=100,\n",
    "\n",
    ")\n",
    "tfin = time.time()\n",
    "duration = tfin - t0\n",
    "print(\"**************************************************\\n\")\n",
    "print(\"*** Complexite temporelle du reseaux de neurones : \", duration, \"  secondes ***\" )\n",
    "print(\"**************************************************\\n\")\n"
   ]
  },
  {
   "cell_type": "code",
   "execution_count": 57,
   "metadata": {
    "colab": {
     "base_uri": "https://localhost:8080/"
    },
    "executionInfo": {
     "elapsed": 46,
     "status": "ok",
     "timestamp": 1642520261900,
     "user": {
      "displayName": "Martin ROB",
      "photoUrl": "https://lh3.googleusercontent.com/a/default-user=s64",
      "userId": "04452306311638204781"
     },
     "user_tz": -60
    },
    "id": "tLFEDY_9q5eN",
    "outputId": "c7327ac2-683d-4884-b051-86090ceb8067"
   },
   "outputs": [
    {
     "name": "stdout",
     "output_type": "stream",
     "text": [
      "11/11 - 0s - loss: 5.5912 - accuracy: 0.6212 - 123ms/epoch - 11ms/step\n"
     ]
    },
    {
     "name": "stderr",
     "output_type": "stream",
     "text": [
      "/usr/local/lib/python3.7/dist-packages/tensorflow/python/util/dispatch.py:1096: UserWarning: \"`sparse_categorical_crossentropy` received `from_logits=True`, but the `output` argument was produced by a sigmoid or softmax activation and thus does not represent logits. Was this intended?\"\n",
      "  return dispatch_target(*args, **kwargs)\n"
     ]
    },
    {
     "data": {
      "text/plain": [
       "[5.591221809387207, 0.6212121248245239]"
      ]
     },
     "execution_count": 57,
     "metadata": {},
     "output_type": "execute_result"
    }
   ],
   "source": [
    "model.evaluate(X_test,  y_test, verbose=2)"
   ]
  },
  {
   "cell_type": "code",
   "execution_count": 58,
   "metadata": {
    "colab": {
     "base_uri": "https://localhost:8080/"
    },
    "executionInfo": {
     "elapsed": 40,
     "status": "ok",
     "timestamp": 1642520261901,
     "user": {
      "displayName": "Martin ROB",
      "photoUrl": "https://lh3.googleusercontent.com/a/default-user=s64",
      "userId": "04452306311638204781"
     },
     "user_tz": -60
    },
    "id": "9xHvWvKhq_9k",
    "outputId": "1e566e89-e36d-4efe-a202-60ecbafc9e3b"
   },
   "outputs": [
    {
     "name": "stdout",
     "output_type": "stream",
     "text": [
      "[7 0 7 6 1]\n",
      "[[7]\n",
      " [5]\n",
      " [7]\n",
      " [6]\n",
      " [1]]\n",
      "dict_keys(['loss', 'accuracy'])\n"
     ]
    }
   ],
   "source": [
    "probability_model = tf.keras.Sequential([\n",
    "  model,\n",
    "  tf.keras.layers.Softmax()\n",
    "])\n",
    "\n",
    "print(np.argmax(probability_model(X_test[:5]), axis=1))\n",
    "\n",
    "print(y_test[:5])\n",
    "print(history.history.keys())\n"
   ]
  },
  {
   "cell_type": "code",
   "execution_count": 59,
   "metadata": {
    "colab": {
     "base_uri": "https://localhost:8080/",
     "height": 338
    },
    "executionInfo": {
     "elapsed": 447,
     "status": "ok",
     "timestamp": 1642520262664,
     "user": {
      "displayName": "Martin ROB",
      "photoUrl": "https://lh3.googleusercontent.com/a/default-user=s64",
      "userId": "04452306311638204781"
     },
     "user_tz": -60
    },
    "id": "3V4RNr6OsOwS",
    "outputId": "38d88aa1-9e88-4a5c-9a30-4d3d484e837a"
   },
   "outputs": [
    {
     "data": {
      "image/png": "[encoded data removed]",
      "text/plain": [
       "<Figure size 1080x360 with 2 Axes>"
      ]
     },
     "metadata": {
      "needs_background": "light"
     },
     "output_type": "display_data"
    }
   ],
   "source": [
    "def plot_acc_loss(results, epochs):\n",
    " acc = results.history['accuracy']\n",
    " loss = results.history['loss']\n",
    "\n",
    "\n",
    " plt.figure(figsize=(15, 5))\n",
    " plt.subplot(121)\n",
    " plt.plot(range(1,epochs), acc[1:], label='Train_acc')\n",
    "\n",
    " plt.title('Accuracy over ' + str(epochs) + ' Epochs', size=15)\n",
    " plt.legend()\n",
    " plt.grid(True)\n",
    " plt.subplot(122)\n",
    " plt.plot(range(1,epochs), loss[1:], label='Train_loss')\n",
    " plt.title('Loss over ' + str(epochs) +  ' Epochs', size=15)\n",
    " plt.legend()\n",
    " plt.grid(True)\n",
    " plt.show()\n",
    " \n",
    "plot_acc_loss(history, 100)\n",
    "\n"
   ]
  },
  {
   "cell_type": "code",
   "execution_count": 60,
   "metadata": {
    "executionInfo": {
     "elapsed": 329,
     "status": "ok",
     "timestamp": 1642520262985,
     "user": {
      "displayName": "Martin ROB",
      "photoUrl": "https://lh3.googleusercontent.com/a/default-user=s64",
      "userId": "04452306311638204781"
     },
     "user_tz": -60
    },
    "id": "TcLKgQxImh-d"
   },
   "outputs": [],
   "source": [
    "# Save model\n",
    "RESULT_PATH = './results/'\n",
    "model.save(RESULT_PATH+\"/model.h5\")"
   ]
  }
 ],
 "metadata": {
  "colab": {
   "authorship_tag": "ABX9TyOPIqAa6eTBJ13s3T9w4y5r",
   "collapsed_sections": [],
   "name": "sound.ipynb",
   "provenance": []
  },
  "kernelspec": {
   "display_name": "Python 3 (ipykernel)",
   "language": "python",
   "name": "python3"
  },
  "language_info": {
   "codemirror_mode": {
    "name": "ipython",
    "version": 3
   },
   "file_extension": ".py",
   "mimetype": "text/x-python",
   "name": "python",
   "nbconvert_exporter": "python",
   "pygments_lexer": "ipython3",
   "version": "3.8.10"
  }
 },
 "nbformat": 4,
 "nbformat_minor": 1
}
